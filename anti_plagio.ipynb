{
  "nbformat": 4,
  "nbformat_minor": 0,
  "metadata": {
    "colab": {
      "provenance": [],
      "authorship_tag": "ABX9TyPoMI1biafurxny7vJ+j4fB",
      "include_colab_link": true
    },
    "kernelspec": {
      "name": "python3",
      "display_name": "Python 3"
    },
    "language_info": {
      "name": "python"
    }
  },
  "cells": [
    {
      "cell_type": "markdown",
      "metadata": {
        "id": "view-in-github",
        "colab_type": "text"
      },
      "source": [
        "<a href=\"https://colab.research.google.com/github/diogoalmeida1991/Anti-plagio/blob/main/anti_cola.ipynb\" target=\"_parent\"><img src=\"https://colab.research.google.com/assets/colab-badge.svg\" alt=\"Open In Colab\"/></a>"
      ]
    },
    {
      "cell_type": "code",
      "source": [
        "!pip install xlsxwriter"
      ],
      "metadata": {
        "colab": {
          "base_uri": "https://localhost:8080/"
        },
        "id": "mq2JIVyJ-S6A",
        "outputId": "77142aac-7c91-4452-a242-75e7d5ec7e6e"
      },
      "execution_count": 1,
      "outputs": [
        {
          "output_type": "stream",
          "name": "stdout",
          "text": [
            "Collecting xlsxwriter\n",
            "  Downloading xlsxwriter-3.2.5-py3-none-any.whl.metadata (2.7 kB)\n",
            "Downloading xlsxwriter-3.2.5-py3-none-any.whl (172 kB)\n",
            "\u001b[?25l   \u001b[90m━━━━━━━━━━━━━━━━━━━━━━━━━━━━━━━━━━━━━━━━\u001b[0m \u001b[32m0.0/172.3 kB\u001b[0m \u001b[31m?\u001b[0m eta \u001b[36m-:--:--\u001b[0m\r\u001b[2K   \u001b[91m━━━━━━━━━━━━━━━━━━━━━━━━━━━━━━━━━━━━━━\u001b[0m\u001b[90m╺\u001b[0m\u001b[90m━\u001b[0m \u001b[32m163.8/172.3 kB\u001b[0m \u001b[31m7.1 MB/s\u001b[0m eta \u001b[36m0:00:01\u001b[0m\r\u001b[2K   \u001b[90m━━━━━━━━━━━━━━━━━━━━━━━━━━━━━━━━━━━━━━━━\u001b[0m \u001b[32m172.3/172.3 kB\u001b[0m \u001b[31m4.3 MB/s\u001b[0m eta \u001b[36m0:00:00\u001b[0m\n",
            "\u001b[?25hInstalling collected packages: xlsxwriter\n",
            "Successfully installed xlsxwriter-3.2.5\n"
          ]
        }
      ]
    },
    {
      "cell_type": "code",
      "execution_count": 2,
      "metadata": {
        "id": "BzStJtY8NBz5"
      },
      "outputs": [],
      "source": [
        "import pandas as pd\n",
        "import os\n",
        "import re"
      ]
    },
    {
      "cell_type": "code",
      "source": [
        "#Cria o vetor de arquivos .csv\n",
        "csv = []\n",
        "for arquivo in os.listdir():\n",
        "  if(re.search(\".csv\", arquivo)!=None):\n",
        "    csv.append(arquivo)\n",
        "csv.sort()"
      ],
      "metadata": {
        "id": "EHNmq8bWOvi4"
      },
      "execution_count": 13,
      "outputs": []
    },
    {
      "cell_type": "code",
      "source": [
        "#Cria um vetor de dataframes, onde cada elemento representa uma atividade realizada\n",
        "#Os csvs são criados com um script powershell com as seguintes colunas nome do\n",
        "#arquivo, caminho e hash.\n",
        "colas = []\n",
        "for arquivo in csv:\n",
        "  teste = pd.read_csv(arquivo)\n",
        "  teste = teste.dropna()\n",
        "  colas.append(teste[teste.duplicated(subset=\"Hash\", keep=False)].copy()) #Coleta as linhas com hash igual\n",
        "for df in colas:\n",
        "  df[\"Nome\"] = df[\"Caminho\"].str.extract(r'\\\\([a-zA-Z?]+ \\D+)_')#Coleta o nome do aluno do caminho\n",
        "  df.drop(\"Caminho\", axis=1, inplace=True)#Remove a coluna caminho\n",
        "  df.drop_duplicates(subset = ['Nome', 'Hash'], inplace=True)#Remove envios duplicados\n"
      ],
      "metadata": {
        "id": "5-PwjBkDNTMg"
      },
      "execution_count": 15,
      "outputs": []
    },
    {
      "cell_type": "code",
      "source": [
        "#Escreve os dados em uma planilha do excel os dados\n",
        "ponteiro_linha = 0\n",
        "with pd.ExcelWriter('Relatório.xlsx', engine='xlsxwriter') as writer:\n",
        "  workbook = writer.book #Cria uma instância para o objeto\n",
        "  worksheet = workbook.add_worksheet('Aba1')#Cria uma folha no excel.\n",
        "  writer.sheets['Aba1'] = worksheet\n",
        "  for i, df in enumerate(colas):\n",
        "    worksheet.write(ponteiro_linha, 0, csv[i])#Escreve o nome do arquivo antes da tabela(linha, coluna, conteúdo)\n",
        "    ponteiro_linha+=1\n",
        "    df.to_excel(writer, sheet_name='Aba1', startrow=ponteiro_linha, index=False)#Grava o dataframe no excel.\n",
        "    ponteiro_linha+=len(df) + 2\n",
        "  #A Unidade de medida para largura no excel é baseada na largura do caractere \"0\" (zero) na fonte padrão Calibri, tamanho 11.\n",
        "  worksheet.set_column(0, 0, 67) #Ajusta a coluna A para 67\n",
        "  worksheet.set_column(1, 1, 70) #Ajusta a coluna B para 70\n"
      ],
      "metadata": {
        "id": "5Kvr9K4n77rB"
      },
      "execution_count": 16,
      "outputs": []
    }
  ]
}
